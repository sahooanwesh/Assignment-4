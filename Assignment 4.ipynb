{
 "cells": [
  {
   "cell_type": "code",
   "execution_count": 4,
   "id": "7170c87e",
   "metadata": {},
   "outputs": [
    {
     "name": "stdout",
     "output_type": "stream",
     "text": [
      "35\n"
     ]
    }
   ],
   "source": [
    "# Write a Python program to create a lambda function that adds 25 to a given number passed in as an argument.\n",
    "\n",
    "\n",
    "# sample input: 10\n",
    "\n",
    "# sample output: 35\n",
    "\n",
    "x = lambda x:x+25\n",
    "print(x(10))"
   ]
  },
  {
   "cell_type": "code",
   "execution_count": 6,
   "id": "3f42100f",
   "metadata": {},
   "outputs": [
    {
     "name": "stdout",
     "output_type": "stream",
     "text": [
      "[3, 6, 9, 12, 15, 18, 21]\n"
     ]
    }
   ],
   "source": [
    "# Write a Python program to triple all numbers of a given list of integers. Use Python map.\n",
    "\n",
    "# sample list: [1, 2, 3, 4, 5, 6, 7]\n",
    "\n",
    "\n",
    "# Triple of list numbers:\n",
    "\n",
    "# [3, 6, 9, 12, 15, 18, 21]\n",
    "\n",
    "def triple(n):\n",
    "    return n*3\n",
    "num = [1,2,3,4,5,6,7]\n",
    "result = map(triple,num)\n",
    "print(list(result))"
   ]
  },
  {
   "cell_type": "code",
   "execution_count": 8,
   "id": "bdad359e",
   "metadata": {},
   "outputs": [
    {
     "name": "stdout",
     "output_type": "stream",
     "text": [
      "[1, 4, 9, 16, 25, 36, 49, 64, 81]\n"
     ]
    }
   ],
   "source": [
    "# Write a Python program to square the elements of a list using map() function.\n",
    "\n",
    "# Sample List: [4, 5, 2, 9]\n",
    "\n",
    "# Square the elements of the list:\n",
    "\n",
    "# [16, 25, 4, 81]\n",
    "\n",
    "def sq(n):\n",
    "    return n*n\n",
    "num = [1,2,3,4,5,6,7,8,9]\n",
    "result = map(sq,num)\n",
    "print(list(result))"
   ]
  },
  {
   "cell_type": "code",
   "execution_count": null,
   "id": "cf635512",
   "metadata": {},
   "outputs": [],
   "source": []
  }
 ],
 "metadata": {
  "kernelspec": {
   "display_name": "Python 3 (ipykernel)",
   "language": "python",
   "name": "python3"
  },
  "language_info": {
   "codemirror_mode": {
    "name": "ipython",
    "version": 3
   },
   "file_extension": ".py",
   "mimetype": "text/x-python",
   "name": "python",
   "nbconvert_exporter": "python",
   "pygments_lexer": "ipython3",
   "version": "3.10.0"
  }
 },
 "nbformat": 4,
 "nbformat_minor": 5
}
